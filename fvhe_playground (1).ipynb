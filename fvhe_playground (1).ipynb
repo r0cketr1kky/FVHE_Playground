{
  "nbformat": 4,
  "nbformat_minor": 0,
  "metadata": {
    "colab": {
      "name": "fvhe_playground.ipynb",
      "provenance": [],
      "collapsed_sections": []
    },
    "kernelspec": {
      "name": "python3",
      "display_name": "Python 3"
    }
  },
  "cells": [
    {
      "cell_type": "code",
      "metadata": {
        "id": "5Gzg1CUiYaSR",
        "colab_type": "code",
        "colab": {}
      },
      "source": [
        "import math \n",
        "import numpy"
      ],
      "execution_count": 0,
      "outputs": []
    },
    {
      "cell_type": "code",
      "metadata": {
        "id": "HrnPENTGmWM3",
        "colab_type": "code",
        "colab": {}
      },
      "source": [
        "def test_multiplicative_depth(L, n=2**11, q=2**80, t=2**10, B_key=1, B_err=8, w=2**32):\n",
        "  '''\n",
        "  Returns true if multiplicative depth L is supported with great probability\n",
        "  '''\n",
        "  def C1(delta, t, B_key):\n",
        "    return ((delta**2)*t*B_key + 4*delta*t)\n",
        "  \n",
        "  def C2(delta, t, B_key, B_err, lwq, w):\n",
        "    return ((delta**2)*B_key*(B_key+t**2) + delta*lwq*w*B_err)\n",
        "\n",
        "  def V(delta, B_key, B_err):\n",
        "    return B_err*(1+(2*delta*B_key))\n",
        "\n",
        "  def rhs(q, t):\n",
        "    return (((q // t) - (q % t)) // 2)\n",
        "\n",
        "  lwq = math.floor(math.log(q, w)) + 1\n",
        "  delta = math.sqrt(n)\n",
        "  lhs = C1(delta, t, B_key)**L * V(delta, B_key, B_err) + L * C1(delta, t, B_key)**(L-1) * C2(delta, t, B_key, B_err, lwq, w)\n",
        "\n",
        "  if rhs(q, t) - lhs > 0:\n",
        "    return 1\n",
        "  else:\n",
        "    return 0\n"
      ],
      "execution_count": 0,
      "outputs": []
    },
    {
      "cell_type": "code",
      "metadata": {
        "id": "n79l-t9UBMdt",
        "colab_type": "code",
        "colab": {}
      },
      "source": [
        "# n - power of cyclotomic polynomial\n",
        "# sigma - std deviation of discrete Gaussian process to induce a dist on cyclotomic polynomial\n",
        "# q - power of 2 for coefficient modulus\n",
        "# t - message space modulus value\n",
        "def create_parameters(n=4096, sigma=16.0, q=128, t=32768):\n",
        "\n",
        "  x = list()\n",
        "  x.extend([n, sigma, q, t])\n",
        "  #print(x)\n",
        "  if math.ceil(math.log2(n)) != math.floor(math.log2(n)):\n",
        "    print(\"n must be a power of 2\")\n",
        "  if n < 32:\n",
        "    print(\"n must be greater than 32\")\n",
        "  x[0] = n\n",
        "  \n",
        "  if sigma <= 0.0:\n",
        "    print(\"sigma must be greater than 0\")\n",
        "  x[1] = sigma\n",
        "\n",
        "  if q <= 0:\n",
        "    print(\"q must be greater than 0\")\n",
        "  if q % 2 == 1:\n",
        "    print(\"q must be divisible by 2 (for relinearisation optimization)\")\n",
        "  x[2] = q\n",
        "\n",
        "  if t <= 0:\n",
        "    print(\"t must be greater than 0\")\n",
        "  if math.log2(t) > x[2]:\n",
        "    print(\"message space modulus (t) cannot exceed 2^q\")\n",
        "  x[3] = t\n",
        "\n",
        "  L = 1\n",
        "  while test_multiplicative_depth(L, n=x[0], q=2**x[2], t=x[3], B_err=2*x[1]):\n",
        "    L += 1\n",
        "  \n",
        "  L -= 1\n",
        "\n",
        "  print(L)\n",
        "  return\n"
      ],
      "execution_count": 0,
      "outputs": []
    },
    {
      "cell_type": "code",
      "metadata": {
        "id": "w-mDfIocjgJi",
        "colab_type": "code",
        "outputId": "7888c13b-4c3d-4a0f-a6a5-a8a758d558d4",
        "colab": {
          "base_uri": "https://localhost:8080/",
          "height": 34
        }
      },
      "source": [
        "create_parameters()"
      ],
      "execution_count": 0,
      "outputs": [
        {
          "output_type": "stream",
          "text": [
            "3\n"
          ],
          "name": "stdout"
        }
      ]
    },
    {
      "cell_type": "code",
      "metadata": {
        "id": "Q3GaYVeQjkfw",
        "colab_type": "code",
        "colab": {}
      },
      "source": [
        ""
      ],
      "execution_count": 0,
      "outputs": []
    },
    {
      "cell_type": "code",
      "metadata": {
        "id": "Yy4l04lHjNi5",
        "colab_type": "code",
        "colab": {}
      },
      "source": [
        "import math\n",
        "import numpy\n",
        "import collections"
      ],
      "execution_count": 0,
      "outputs": []
    },
    {
      "cell_type": "code",
      "metadata": {
        "id": "pci13Tv3jNc9",
        "colab_type": "code",
        "outputId": "129368e0-8f38-4c40-e621-32bcac9b0d6a",
        "colab": {
          "base_uri": "https://localhost:8080/",
          "height": 34
        }
      },
      "source": [
        "###Encoding of base 2 integers\n",
        "i = 17\n",
        "s = \"\"\n",
        "\n",
        "while math.floor(i) != 0:\n",
        "\n",
        "  x = math.floor(math.log2(i))\n",
        "  s += str(x)\n",
        "  i -= 2**x\n",
        "\n",
        "print(s)"
      ],
      "execution_count": 77,
      "outputs": [
        {
          "output_type": "stream",
          "text": [
            "40\n"
          ],
          "name": "stdout"
        }
      ]
    },
    {
      "cell_type": "code",
      "metadata": {
        "id": "FTT8aX7tlVXD",
        "colab_type": "code",
        "colab": {
          "base_uri": "https://localhost:8080/",
          "height": 34
        },
        "outputId": "fe18a10b-b2f1-407f-8c7f-28f12f020f52"
      },
      "source": [
        "###String representation of the above encoding\n",
        "st = \"\"\n",
        "for i in range(len(s)):\n",
        "  st += \"x^\" + s[i] + \" + \"\n",
        "st = st[:-2]\n",
        "st = st.replace(\"x^0\", \"1\")\n",
        "print(st)"
      ],
      "execution_count": 80,
      "outputs": [
        {
          "output_type": "stream",
          "text": [
            "x^4 + 1 \n"
          ],
          "name": "stdout"
        }
      ]
    },
    {
      "cell_type": "code",
      "metadata": {
        "id": "lsCxMImXYmXJ",
        "colab_type": "code",
        "colab": {
          "base_uri": "https://localhost:8080/",
          "height": 68
        },
        "outputId": "93fb16f0-1713-4094-edff-904824c5e1d6"
      },
      "source": [
        "###Encoding of any base integers\n",
        "base = int(input())\n",
        "num = int(input())\n",
        "\n",
        "s = \"\"\n",
        "\n",
        "while math.floor(num) != 0:\n",
        "\n",
        "  x = int(math.log(num, base))\n",
        "  #print(x)\n",
        "  s += str(x)\n",
        "  num = num - base**x\n",
        "  \"\"\"if num < 0:\n",
        "    print(num)\n",
        "    num = abs(num)\n",
        "    s += str(\"-\")\n",
        "  \"\"\"\n",
        "print(s)"
      ],
      "execution_count": 152,
      "outputs": [
        {
          "output_type": "stream",
          "text": [
            "3\n",
            "7\n",
            "110\n"
          ],
          "name": "stdout"
        }
      ]
    },
    {
      "cell_type": "code",
      "metadata": {
        "id": "p60yxtMEaRUs",
        "colab_type": "code",
        "colab": {
          "base_uri": "https://localhost:8080/",
          "height": 34
        },
        "outputId": "b14bc1fc-6ce6-4119-93cc-aea4b1caf689"
      },
      "source": [
        "###String representation of above encoding with any base integers\n",
        "st = \"\"\n",
        "p = 0\n",
        "for i in range(len(s)):\n",
        "  \n",
        "  \"\"\"if s[i] == '-':\n",
        "    st = st[:-2]\n",
        "    st += s[i] + \" \"\n",
        "    continue  \n",
        "  \n",
        "  if s[i-p] == '-' and i > 0 and s[i] >= \"0\":\n",
        "    st += \" - \" + s[i] + \" \"\n",
        "    p += 1\n",
        "    continue\n",
        "  \"\"\"\n",
        "  \n",
        "  st += \"x^\" + s[i] + \" + \"\n",
        "\n",
        "\n",
        "st = st[:-2]\n",
        "st = st.replace(\"x^0\", \"1\")\n",
        "#st = st.replace(\"+\", \"-\")\n",
        "#st = st.replace(\" + x^-\", \" - \")\n",
        "#st = st.replace(\"-  +\", \"-\")\n",
        "\n",
        "\n",
        "\n",
        "print(st)"
      ],
      "execution_count": 153,
      "outputs": [
        {
          "output_type": "stream",
          "text": [
            "x^1 + x^1 + 1 \n"
          ],
          "name": "stdout"
        }
      ]
    },
    {
      "cell_type": "code",
      "metadata": {
        "id": "WSWDWFrrdFCr",
        "colab_type": "code",
        "colab": {
          "base_uri": "https://localhost:8080/",
          "height": 34
        },
        "outputId": "18ef2088-e497-4494-a8d5-3a4cce943ea9"
      },
      "source": [
        "\"\"\"all_freq = {}\n",
        "\n",
        "for i in s:\n",
        "  if i in all_freq:\n",
        "    all_freq[i] += 1\n",
        "  else:\n",
        "    all_freq[i] = 1\n",
        "\n",
        "all_freq\n",
        "\"\"\"\n",
        "x0 = s.count('0')\n",
        "x1 = s.count('1')\n",
        "x2 = s.count('2')\n",
        "x3 = s.count('3')\n",
        "l = [x0, x1, x2, x3]\n",
        "x = l\n",
        "x"
      ],
      "execution_count": 154,
      "outputs": [
        {
          "output_type": "execute_result",
          "data": {
            "text/plain": [
              "[1, 2, 0, 0]"
            ]
          },
          "metadata": {
            "tags": []
          },
          "execution_count": 154
        }
      ]
    },
    {
      "cell_type": "code",
      "metadata": {
        "id": "4M43nL8pmor1",
        "colab_type": "code",
        "colab": {}
      },
      "source": [
        "#x = all_freq.values()\n",
        "#x"
      ],
      "execution_count": 0,
      "outputs": []
    },
    {
      "cell_type": "code",
      "metadata": {
        "id": "duQigo6BNFe_",
        "colab_type": "code",
        "colab": {
          "base_uri": "https://localhost:8080/",
          "height": 34
        },
        "outputId": "c24b7b77-13d3-4952-c9c7-6d83ee1d5199"
      },
      "source": [
        "#x = list(x)\n",
        "x = x[::-1]\n",
        "x"
      ],
      "execution_count": 156,
      "outputs": [
        {
          "output_type": "execute_result",
          "data": {
            "text/plain": [
              "[0, 0, 2, 1]"
            ]
          },
          "metadata": {
            "tags": []
          },
          "execution_count": 156
        }
      ]
    },
    {
      "cell_type": "code",
      "metadata": {
        "id": "szqDZuaNOdUJ",
        "colab_type": "code",
        "colab": {
          "base_uri": "https://localhost:8080/",
          "height": 51
        },
        "outputId": "e76c9666-bb86-4e7f-d1bd-3484549ef480"
      },
      "source": [
        "p1 = numpy.poly1d(x)\n",
        "print(p1)"
      ],
      "execution_count": 157,
      "outputs": [
        {
          "output_type": "stream",
          "text": [
            " \n",
            "2 x + 1\n"
          ],
          "name": "stdout"
        }
      ]
    },
    {
      "cell_type": "code",
      "metadata": {
        "id": "Ou168NS1O28J",
        "colab_type": "code",
        "colab": {
          "base_uri": "https://localhost:8080/",
          "height": 68
        },
        "outputId": "b53e42af-8ef1-46a8-c789-701ac90a3732"
      },
      "source": [
        "base = int(input())\n",
        "num = int(input())\n",
        "\n",
        "s = \"\"\n",
        "\n",
        "while math.floor(num) != 0:\n",
        "\n",
        "  x = int(math.log(num, base))\n",
        "  #print(x)\n",
        "  s += str(x)\n",
        "  num = num - base**x\n",
        "  \"\"\"if num < 0:\n",
        "    print(num)\n",
        "    num = abs(num)\n",
        "    s += str(\"-\")\n",
        "  \"\"\"\n",
        "print(s)"
      ],
      "execution_count": 158,
      "outputs": [
        {
          "output_type": "stream",
          "text": [
            "3\n",
            "11\n",
            "200\n"
          ],
          "name": "stdout"
        }
      ]
    },
    {
      "cell_type": "code",
      "metadata": {
        "id": "htGeMwgcTN4Z",
        "colab_type": "code",
        "colab": {
          "base_uri": "https://localhost:8080/",
          "height": 34
        },
        "outputId": "6403e2d1-2a3a-4536-f869-673f82605b9e"
      },
      "source": [
        "###String representation of above encoding with any base integers\n",
        "st = \"\"\n",
        "p = 0\n",
        "for i in range(len(s)):\n",
        "  \n",
        "  \"\"\"if s[i] == '-':\n",
        "    st = st[:-2]\n",
        "    st += s[i] + \" \"\n",
        "    continue  \n",
        "  \n",
        "  if s[i-p] == '-' and i > 0 and s[i] >= \"0\":\n",
        "    st += \" - \" + s[i] + \" \"\n",
        "    p += 1\n",
        "    continue\n",
        "  \"\"\"\n",
        "  \n",
        "  st += \"x^\" + s[i] + \" + \"\n",
        "\n",
        "\n",
        "st = st[:-2]\n",
        "st = st.replace(\"x^0\", \"1\")\n",
        "#st = st.replace(\"+\", \"-\")\n",
        "#st = st.replace(\" + x^-\", \" - \")\n",
        "#st = st.replace(\"-  +\", \"-\")\n",
        "\n",
        "\n",
        "\n",
        "print(st)"
      ],
      "execution_count": 159,
      "outputs": [
        {
          "output_type": "stream",
          "text": [
            "x^2 + 1 + 1 \n"
          ],
          "name": "stdout"
        }
      ]
    },
    {
      "cell_type": "code",
      "metadata": {
        "id": "EB_q16wdTiK6",
        "colab_type": "code",
        "colab": {
          "base_uri": "https://localhost:8080/",
          "height": 34
        },
        "outputId": "fc95a0b1-d63f-4aa6-dc9f-553ddf92322d"
      },
      "source": [
        "x0 = s.count('0')\n",
        "x1 = s.count('1')\n",
        "x2 = s.count('2')\n",
        "x3 = s.count('3')\n",
        "l = [x0, x1, x2, x3]\n",
        "x = l\n",
        "x"
      ],
      "execution_count": 160,
      "outputs": [
        {
          "output_type": "execute_result",
          "data": {
            "text/plain": [
              "[2, 0, 1, 0]"
            ]
          },
          "metadata": {
            "tags": []
          },
          "execution_count": 160
        }
      ]
    },
    {
      "cell_type": "code",
      "metadata": {
        "id": "wQedzM1STiJg",
        "colab_type": "code",
        "colab": {
          "base_uri": "https://localhost:8080/",
          "height": 34
        },
        "outputId": "f4428831-1d96-44c6-c513-1f0b8e903b1d"
      },
      "source": [
        "x = x[::-1]\n",
        "x"
      ],
      "execution_count": 161,
      "outputs": [
        {
          "output_type": "execute_result",
          "data": {
            "text/plain": [
              "[0, 1, 0, 2]"
            ]
          },
          "metadata": {
            "tags": []
          },
          "execution_count": 161
        }
      ]
    },
    {
      "cell_type": "code",
      "metadata": {
        "id": "i35TuH_cTiEo",
        "colab_type": "code",
        "colab": {
          "base_uri": "https://localhost:8080/",
          "height": 51
        },
        "outputId": "844d1a68-e315-4c82-ebd7-384226d5ce77"
      },
      "source": [
        "p2 = numpy.poly1d(x)\n",
        "print(p2)"
      ],
      "execution_count": 162,
      "outputs": [
        {
          "output_type": "stream",
          "text": [
            "   2\n",
            "1 x + 2\n"
          ],
          "name": "stdout"
        }
      ]
    },
    {
      "cell_type": "code",
      "metadata": {
        "id": "4QXG8YR4TiB5",
        "colab_type": "code",
        "colab": {
          "base_uri": "https://localhost:8080/",
          "height": 51
        },
        "outputId": "3bed9448-7398-49b7-b144-23edf597412f"
      },
      "source": [
        "p = numpy.polymul(p1, p2)\n",
        "print(p)"
      ],
      "execution_count": 164,
      "outputs": [
        {
          "output_type": "stream",
          "text": [
            "   3     2\n",
            "2 x + 1 x + 4 x + 2\n"
          ],
          "name": "stdout"
        }
      ]
    },
    {
      "cell_type": "code",
      "metadata": {
        "id": "1AI-AtziU37q",
        "colab_type": "code",
        "colab": {
          "base_uri": "https://localhost:8080/",
          "height": 34
        },
        "outputId": "58dfdaf4-e033-47d6-f169-4e944043f3a3"
      },
      "source": [
        "r = p(base)\n",
        "r"
      ],
      "execution_count": 170,
      "outputs": [
        {
          "output_type": "execute_result",
          "data": {
            "text/plain": [
              "77"
            ]
          },
          "metadata": {
            "tags": []
          },
          "execution_count": 170
        }
      ]
    },
    {
      "cell_type": "code",
      "metadata": {
        "id": "lKa7JPwqVqny",
        "colab_type": "code",
        "colab": {}
      },
      "source": [
        ""
      ],
      "execution_count": 0,
      "outputs": []
    }
  ]
}