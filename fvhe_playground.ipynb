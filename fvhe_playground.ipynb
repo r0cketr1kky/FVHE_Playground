{
  "nbformat": 4,
  "nbformat_minor": 0,
  "metadata": {
    "colab": {
      "name": "fvhe_playground.ipynb",
      "provenance": [],
      "collapsed_sections": []
    },
    "kernelspec": {
      "name": "python3",
      "display_name": "Python 3"
    }
  },
  "cells": [
    {
      "cell_type": "code",
      "metadata": {
        "id": "5Gzg1CUiYaSR",
        "colab_type": "code",
        "colab": {}
      },
      "source": [
        "import math \n",
        "import numpy"
      ],
      "execution_count": 0,
      "outputs": []
    },
    {
      "cell_type": "code",
      "metadata": {
        "id": "HrnPENTGmWM3",
        "colab_type": "code",
        "colab": {}
      },
      "source": [
        "def test_multiplicative_depth(L, n=2**11, q=2**80, t=2**10, B_key=1, B_err=8, w=2**32):\n",
        "  '''\n",
        "  Returns true if multiplicative depth L is supported with great probability\n",
        "  '''\n",
        "  def C1(delta, t, B_key):\n",
        "    return ((delta**2)*t*B_key + 4*delta*t)\n",
        "  \n",
        "  def C2(delta, t, B_key, B_err, lwq, w):\n",
        "    return ((delta**2)*B_key*(B_key+t**2) + delta*lwq*w*B_err)\n",
        "\n",
        "  def V(delta, B_key, B_err):\n",
        "    return B_err*(1+(2*delta*B_key))\n",
        "\n",
        "  def rhs(q, t):\n",
        "    return (((q // t) - (q % t)) // 2)\n",
        "\n",
        "  lwq = math.floor(math.log(q, w)) + 1\n",
        "  delta = math.sqrt(n)\n",
        "  lhs = C1(delta, t, B_key)**L * V(delta, B_key, B_err) + L * C1(delta, t, B_key)**(L-1) * C2(delta, t, B_key, B_err, lwq, w)\n",
        "\n",
        "  if rhs(q, t) - lhs > 0:\n",
        "    return 1\n",
        "  else:\n",
        "    return 0\n"
      ],
      "execution_count": 0,
      "outputs": []
    },
    {
      "cell_type": "code",
      "metadata": {
        "id": "n79l-t9UBMdt",
        "colab_type": "code",
        "colab": {}
      },
      "source": [
        "# n - power of cyclotomic polynomial\n",
        "# sigma - std deviation of discrete Gaussian process to induce a dist on cyclotomic polynomial\n",
        "# q - power of 2 for coefficient modulus\n",
        "# t - message space modulus value\n",
        "def create_parameters(n=4096, sigma=16.0, q=128, t=32768):\n",
        "\n",
        "  x = list()\n",
        "  x.extend([n, sigma, q, t])\n",
        "  #print(x)\n",
        "  if math.ceil(math.log2(n)) != math.floor(math.log2(n)):\n",
        "    print(\"n must be a power of 2\")\n",
        "  if n < 32:\n",
        "    print(\"n must be greater than 32\")\n",
        "  x[0] = n\n",
        "  \n",
        "  if sigma <= 0.0:\n",
        "    print(\"sigma must be greater than 0\")\n",
        "  x[1] = sigma\n",
        "\n",
        "  if q <= 0:\n",
        "    print(\"q must be greater than 0\")\n",
        "  if q % 2 == 1:\n",
        "    print(\"q must be divisible by 2 (for relinearisation optimization)\")\n",
        "  x[2] = q\n",
        "\n",
        "  if t <= 0:\n",
        "    print(\"t must be greater than 0\")\n",
        "  if math.log2(t) > x[2]:\n",
        "    print(\"message space modulus (t) cannot exceed 2^q\")\n",
        "  x[3] = t\n",
        "\n",
        "  L = 1\n",
        "  while test_multiplicative_depth(L, n=x[0], q=2**x[2], t=x[3], B_err=2*x[1]):\n",
        "    L += 1\n",
        "  \n",
        "  L -= 1\n",
        "\n",
        "  print(L)\n",
        "  return\n"
      ],
      "execution_count": 0,
      "outputs": []
    },
    {
      "cell_type": "code",
      "metadata": {
        "id": "w-mDfIocjgJi",
        "colab_type": "code",
        "outputId": "7888c13b-4c3d-4a0f-a6a5-a8a758d558d4",
        "colab": {
          "base_uri": "https://localhost:8080/",
          "height": 34
        }
      },
      "source": [
        "create_parameters()"
      ],
      "execution_count": 4,
      "outputs": [
        {
          "output_type": "stream",
          "text": [
            "3\n"
          ],
          "name": "stdout"
        }
      ]
    },
    {
      "cell_type": "code",
      "metadata": {
        "id": "Q3GaYVeQjkfw",
        "colab_type": "code",
        "colab": {}
      },
      "source": [
        ""
      ],
      "execution_count": 0,
      "outputs": []
    }
  ]
}